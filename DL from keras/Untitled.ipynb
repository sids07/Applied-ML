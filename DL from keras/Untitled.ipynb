{
 "cells": [
  {
   "cell_type": "code",
   "execution_count": 1,
   "metadata": {},
   "outputs": [],
   "source": [
    "a=[{'year': '2014', 'product': 'Petrol', 'sale': 283567},\n",
    "  {'year': '2013', 'product': 'Petrol', 'sale': 283234},\n",
    "  {'year': '2012', 'product': 'Petrol', 'sale': 283527},\n",
    "  {'year': '2011', 'product': 'Petrol', 'sale': 283567},\n",
    "  {'year': '2010', 'product': 'Petrol', 'sale': 283567},\n",
    "  {'year': '2009', 'product': 'Petrol', 'sale': 283567},\n",
    "  {'year': '2008', 'product': 'Petrol', 'sale': 283567},\n",
    "  {'year': '2007', 'product': 'Petrol', 'sale': 283567},]"
   ]
  },
  {
   "cell_type": "code",
   "execution_count": 2,
   "metadata": {},
   "outputs": [],
   "source": [
    "year1=['2014','2013','2012','2011']\n",
    "year2=['2010','2009','2008','2007']"
   ]
  },
  {
   "cell_type": "code",
   "execution_count": 11,
   "metadata": {},
   "outputs": [
    {
     "name": "stdout",
     "output_type": "stream",
     "text": [
      "[{'product': 'Petrol', 'year': '2011-2014', 'average': 283473.75}, {'product': 'Petrol', 'year': '2007-2010', 'sum': 1134268}]\n",
      "1133895\n",
      "1134268\n"
     ]
    }
   ],
   "source": [
    "result=[]\n",
    "sum1=0\n",
    "sum2=0\n",
    "a1={}\n",
    "a2={}\n",
    "n=0\n",
    "m=0\n",
    "for i in a:\n",
    "    if i['product']=='Petrol':\n",
    "        a1['product'] = 'Petrol'\n",
    "        a2['product'] = 'Petrol'\n",
    "        if i['year'] in year1:\n",
    "            n = n+1\n",
    "            a1['year']= '2011-2014'\n",
    "            sum1 = sum1+i['sale']\n",
    "            average = sum1/n\n",
    "            a1['average'] = average\n",
    "        \n",
    "        if i['year'] in year2:\n",
    "            a2['year']= '2007-2010'\n",
    "            sum2 = sum2+i['sale']\n",
    "            a2['sum'] = sum2\n",
    "result.append(a1)\n",
    "result.append(a2)\n",
    "print(result)\n",
    "print(sum1)\n",
    "print(sum2)"
   ]
  },
  {
   "cell_type": "code",
   "execution_count": 10,
   "metadata": {},
   "outputs": [
    {
     "data": {
      "text/plain": [
       "283473.75"
      ]
     },
     "execution_count": 10,
     "metadata": {},
     "output_type": "execute_result"
    }
   ],
   "source": [
    "1133895/4"
   ]
  },
  {
   "cell_type": "code",
   "execution_count": 12,
   "metadata": {},
   "outputs": [],
   "source": [
    "import pandas as pd"
   ]
  },
  {
   "cell_type": "code",
   "execution_count": 14,
   "metadata": {},
   "outputs": [],
   "source": [
    "sus=pd.DataFrame(a)"
   ]
  },
  {
   "cell_type": "code",
   "execution_count": 15,
   "metadata": {},
   "outputs": [
    {
     "data": {
      "text/html": [
       "<div>\n",
       "<style scoped>\n",
       "    .dataframe tbody tr th:only-of-type {\n",
       "        vertical-align: middle;\n",
       "    }\n",
       "\n",
       "    .dataframe tbody tr th {\n",
       "        vertical-align: top;\n",
       "    }\n",
       "\n",
       "    .dataframe thead th {\n",
       "        text-align: right;\n",
       "    }\n",
       "</style>\n",
       "<table border=\"1\" class=\"dataframe\">\n",
       "  <thead>\n",
       "    <tr style=\"text-align: right;\">\n",
       "      <th></th>\n",
       "      <th>year</th>\n",
       "      <th>product</th>\n",
       "      <th>sale</th>\n",
       "    </tr>\n",
       "  </thead>\n",
       "  <tbody>\n",
       "    <tr>\n",
       "      <td>0</td>\n",
       "      <td>2014</td>\n",
       "      <td>Petrol</td>\n",
       "      <td>283567</td>\n",
       "    </tr>\n",
       "    <tr>\n",
       "      <td>1</td>\n",
       "      <td>2013</td>\n",
       "      <td>Petrol</td>\n",
       "      <td>283234</td>\n",
       "    </tr>\n",
       "    <tr>\n",
       "      <td>2</td>\n",
       "      <td>2012</td>\n",
       "      <td>Petrol</td>\n",
       "      <td>283527</td>\n",
       "    </tr>\n",
       "    <tr>\n",
       "      <td>3</td>\n",
       "      <td>2011</td>\n",
       "      <td>Petrol</td>\n",
       "      <td>283567</td>\n",
       "    </tr>\n",
       "    <tr>\n",
       "      <td>4</td>\n",
       "      <td>2010</td>\n",
       "      <td>Petrol</td>\n",
       "      <td>283567</td>\n",
       "    </tr>\n",
       "    <tr>\n",
       "      <td>5</td>\n",
       "      <td>2009</td>\n",
       "      <td>Petrol</td>\n",
       "      <td>283567</td>\n",
       "    </tr>\n",
       "    <tr>\n",
       "      <td>6</td>\n",
       "      <td>2008</td>\n",
       "      <td>Petrol</td>\n",
       "      <td>283567</td>\n",
       "    </tr>\n",
       "    <tr>\n",
       "      <td>7</td>\n",
       "      <td>2007</td>\n",
       "      <td>Petrol</td>\n",
       "      <td>283567</td>\n",
       "    </tr>\n",
       "  </tbody>\n",
       "</table>\n",
       "</div>"
      ],
      "text/plain": [
       "   year product    sale\n",
       "0  2014  Petrol  283567\n",
       "1  2013  Petrol  283234\n",
       "2  2012  Petrol  283527\n",
       "3  2011  Petrol  283567\n",
       "4  2010  Petrol  283567\n",
       "5  2009  Petrol  283567\n",
       "6  2008  Petrol  283567\n",
       "7  2007  Petrol  283567"
      ]
     },
     "execution_count": 15,
     "metadata": {},
     "output_type": "execute_result"
    }
   ],
   "source": [
    "sus"
   ]
  },
  {
   "cell_type": "code",
   "execution_count": 25,
   "metadata": {},
   "outputs": [
    {
     "data": {
      "text/plain": [
       "array(['2014', '2013', '2012', '2011', '2010', '2009', '2008', '2007'],\n",
       "      dtype=object)"
      ]
     },
     "execution_count": 25,
     "metadata": {},
     "output_type": "execute_result"
    }
   ],
   "source": [
    "sus['year'].values"
   ]
  },
  {
   "cell_type": "code",
   "execution_count": null,
   "metadata": {},
   "outputs": [],
   "source": [
    "import numpy as np\n",
    "\n",
    "np.whereyea(sus['year'].value in )"
   ]
  },
  {
   "cell_type": "code",
   "execution_count": null,
   "metadata": {},
   "outputs": [],
   "source": []
  }
 ],
 "metadata": {
  "kernelspec": {
   "display_name": "Python 3",
   "language": "python",
   "name": "python3"
  },
  "language_info": {
   "codemirror_mode": {
    "name": "ipython",
    "version": 3
   },
   "file_extension": ".py",
   "mimetype": "text/x-python",
   "name": "python",
   "nbconvert_exporter": "python",
   "pygments_lexer": "ipython3",
   "version": "3.6.9"
  }
 },
 "nbformat": 4,
 "nbformat_minor": 2
}
