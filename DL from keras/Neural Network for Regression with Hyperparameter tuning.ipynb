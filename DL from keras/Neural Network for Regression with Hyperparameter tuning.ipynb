{
 "cells": [
  {
   "cell_type": "code",
   "execution_count": 1,
   "metadata": {
    "colab": {},
    "colab_type": "code",
    "id": "sErhLOp07aCE"
   },
   "outputs": [],
   "source": [
    "import numpy as np\n",
    "import pandas as pd\n",
    "import matplotlib.pyplot as plt"
   ]
  },
  {
   "cell_type": "code",
   "execution_count": 2,
   "metadata": {
    "colab": {},
    "colab_type": "code",
    "id": "6YqF1dt_7eE3"
   },
   "outputs": [],
   "source": [
    "boston_house = pd.read_csv(\"https://raw.githubusercontent.com/dphi-official/Datasets/master/Boston_Housing/Training_set_boston.csv\")"
   ]
  },
  {
   "cell_type": "code",
   "execution_count": 3,
   "metadata": {
    "colab": {},
    "colab_type": "code",
    "id": "LBWPNIOg7gmH"
   },
   "outputs": [],
   "source": [
    "X = boston_house.iloc[:,:-1]\n",
    "y = boston_house.MEDV"
   ]
  },
  {
   "cell_type": "code",
   "execution_count": 4,
   "metadata": {
    "colab": {},
    "colab_type": "code",
    "id": "FPDBqzct7lr4"
   },
   "outputs": [],
   "source": [
    "n_features = X.shape[1]"
   ]
  },
  {
   "cell_type": "code",
   "execution_count": 5,
   "metadata": {
    "colab": {},
    "colab_type": "code",
    "id": "PqrlC4EF7uiM"
   },
   "outputs": [],
   "source": [
    "from sklearn.model_selection import train_test_split "
   ]
  },
  {
   "cell_type": "code",
   "execution_count": 6,
   "metadata": {
    "colab": {},
    "colab_type": "code",
    "id": "wKzI6vTQ73K5"
   },
   "outputs": [],
   "source": [
    "X_train,X_test,y_train,y_test = train_test_split(X,y,test_size=0.2,random_state=43)"
   ]
  },
  {
   "cell_type": "code",
   "execution_count": 7,
   "metadata": {
    "colab": {},
    "colab_type": "code",
    "id": "hmoBdaUl7_fV"
   },
   "outputs": [],
   "source": [
    "from tensorflow.keras.layers import Dense\n",
    "from tensorflow.keras import Input\n",
    "from tensorflow.keras import Model\n",
    "\n",
    "import tensorflow\n",
    "from numpy.random import seed"
   ]
  },
  {
   "cell_type": "code",
   "execution_count": 8,
   "metadata": {
    "colab": {},
    "colab_type": "code",
    "id": "h9IDjj578N54"
   },
   "outputs": [],
   "source": [
    "\n",
    "seed_value = 42\n",
    "seed(seed_value)        # If you build the model with given parameters, set_random_seed will help you produce the same result on multiple execution\n",
    "\n",
    "\n",
    "# Recommended by Keras -------------------------------------------------------------------------------------\n",
    "# 1. Set `PYTHONHASHSEED` environment variable at a fixed value\n",
    "import os\n",
    "os.environ['PYTHONHASHSEED']=str(seed_value)\n",
    "\n",
    "# 2. Set `python` built-in pseudo-random generator at a fixed value\n",
    "import random\n",
    "random.seed(seed_value)\n",
    "\n",
    "# 3. Set `numpy` pseudo-random generator at a fixed value\n",
    "import numpy as np\n",
    "np.random.seed(seed_value)\n",
    "# Recommended by Keras -------------------------------------------------------------------------------------\n",
    "\n",
    "tensorflow.random.set_seed(seed_value)"
   ]
  },
  {
   "cell_type": "code",
   "execution_count": 9,
   "metadata": {
    "colab": {},
    "colab_type": "code",
    "id": "Jx05Teu68Oyg"
   },
   "outputs": [],
   "source": [
    "from keras.wrappers.scikit_learn import KerasRegressor\n",
    "from tensorflow.keras.optimizers import RMSprop"
   ]
  },
  {
   "cell_type": "code",
   "execution_count": 10,
   "metadata": {
    "colab": {},
    "colab_type": "code",
    "id": "Z7_GxL0F8TAA"
   },
   "outputs": [],
   "source": [
    "def create_model(optimizers=RMSprop(0.01)):\n",
    "    inp = Input(shape=(n_features,))\n",
    "    \n",
    "    hid = Dense(10,activation=\"relu\")(inp)\n",
    "    \n",
    "    hid = Dense(8,activation=\"relu\")(hid)\n",
    "    \n",
    "    out = Dense(1)(hid)\n",
    "    \n",
    "    model = Model(inputs=inp, outputs= out)\n",
    "    \n",
    "    model.compile(loss=\"mean_squared_error\",metrics=['mse'],optimizer=optimizers)\n",
    "    \n",
    "    return model"
   ]
  },
  {
   "cell_type": "code",
   "execution_count": 11,
   "metadata": {
    "colab": {},
    "colab_type": "code",
    "id": "iqK1Uvzk8VW1"
   },
   "outputs": [],
   "source": [
    "model = KerasRegressor(build_fn=create_model,verbose=1)"
   ]
  },
  {
   "cell_type": "code",
   "execution_count": 12,
   "metadata": {
    "colab": {},
    "colab_type": "code",
    "id": "ws3EIno28d4f"
   },
   "outputs": [],
   "source": [
    "batch_size = [10,20,30,40,50]\n",
    "\n",
    "epochs=[10,20,50]\n",
    "\n",
    "params_grid = {'batch_size':batch_size,'epochs':epochs}"
   ]
  },
  {
   "cell_type": "code",
   "execution_count": 13,
   "metadata": {
    "colab": {
     "base_uri": "https://localhost:8080/",
     "height": 34
    },
    "colab_type": "code",
    "id": "WejVGqcT8gev",
    "outputId": "0a8223a9-70f1-494a-adfa-60c671632f3f"
   },
   "outputs": [
    {
     "data": {
      "text/plain": [
       "{'batch_size': [10, 20, 30, 40, 50], 'epochs': [10, 20, 50]}"
      ]
     },
     "execution_count": 13,
     "metadata": {
      "tags": []
     },
     "output_type": "execute_result"
    }
   ],
   "source": [
    "params_grid"
   ]
  },
  {
   "cell_type": "code",
   "execution_count": 14,
   "metadata": {
    "colab": {},
    "colab_type": "code",
    "id": "QvxU8rXL8h1N"
   },
   "outputs": [],
   "source": [
    "from sklearn.model_selection import GridSearchCV"
   ]
  },
  {
   "cell_type": "code",
   "execution_count": 15,
   "metadata": {
    "colab": {
     "base_uri": "https://localhost:8080/",
     "height": 1000
    },
    "colab_type": "code",
    "id": "t10ZLsPV8rO2",
    "outputId": "1633753c-38a6-4412-c547-fe0dfda066ca"
   },
   "outputs": [
    {
     "name": "stdout",
     "output_type": "stream",
     "text": [
      "Epoch 1/50\n",
      "17/17 [==============================] - 0s 1ms/step - loss: 2715.2493 - mse: 2715.2493\n",
      "Epoch 2/50\n",
      "17/17 [==============================] - 0s 1ms/step - loss: 144.4722 - mse: 144.4722\n",
      "Epoch 3/50\n",
      "17/17 [==============================] - 0s 1ms/step - loss: 176.2391 - mse: 176.2391\n",
      "Epoch 4/50\n",
      "17/17 [==============================] - 0s 1ms/step - loss: 157.1971 - mse: 157.1971\n",
      "Epoch 5/50\n",
      "17/17 [==============================] - 0s 1ms/step - loss: 120.9589 - mse: 120.9589\n",
      "Epoch 6/50\n",
      "17/17 [==============================] - 0s 1ms/step - loss: 114.4792 - mse: 114.4792\n",
      "Epoch 7/50\n",
      "17/17 [==============================] - 0s 959us/step - loss: 110.8774 - mse: 110.8774\n",
      "Epoch 8/50\n",
      "17/17 [==============================] - 0s 977us/step - loss: 106.8383 - mse: 106.8383\n",
      "Epoch 9/50\n",
      "17/17 [==============================] - 0s 1ms/step - loss: 78.9711 - mse: 78.9711\n",
      "Epoch 10/50\n",
      "17/17 [==============================] - 0s 1ms/step - loss: 66.7577 - mse: 66.7577\n",
      "Epoch 11/50\n",
      "17/17 [==============================] - 0s 1ms/step - loss: 89.9833 - mse: 89.9833\n",
      "Epoch 12/50\n",
      "17/17 [==============================] - 0s 1ms/step - loss: 87.0571 - mse: 87.0571\n",
      "Epoch 13/50\n",
      "17/17 [==============================] - 0s 1ms/step - loss: 69.7776 - mse: 69.7776\n",
      "Epoch 14/50\n",
      "17/17 [==============================] - 0s 1ms/step - loss: 60.4009 - mse: 60.4009\n",
      "Epoch 15/50\n",
      "17/17 [==============================] - 0s 964us/step - loss: 81.0839 - mse: 81.0839\n",
      "Epoch 16/50\n",
      "17/17 [==============================] - 0s 1ms/step - loss: 66.1489 - mse: 66.1489\n",
      "Epoch 17/50\n",
      "17/17 [==============================] - 0s 1ms/step - loss: 58.8704 - mse: 58.8704\n",
      "Epoch 18/50\n",
      "17/17 [==============================] - 0s 1ms/step - loss: 66.3911 - mse: 66.3911\n",
      "Epoch 19/50\n",
      "17/17 [==============================] - 0s 1ms/step - loss: 57.5029 - mse: 57.5029\n",
      "Epoch 20/50\n",
      "17/17 [==============================] - 0s 1ms/step - loss: 58.8715 - mse: 58.8715\n",
      "Epoch 21/50\n",
      "17/17 [==============================] - 0s 1ms/step - loss: 64.8310 - mse: 64.8310\n",
      "Epoch 22/50\n",
      "17/17 [==============================] - 0s 1ms/step - loss: 50.9498 - mse: 50.9498\n",
      "Epoch 23/50\n",
      "17/17 [==============================] - 0s 1ms/step - loss: 61.7584 - mse: 61.7584\n",
      "Epoch 24/50\n",
      "17/17 [==============================] - 0s 1ms/step - loss: 59.9455 - mse: 59.9455\n",
      "Epoch 25/50\n",
      "17/17 [==============================] - 0s 1ms/step - loss: 53.8006 - mse: 53.8006\n",
      "Epoch 26/50\n",
      "17/17 [==============================] - 0s 1ms/step - loss: 55.8099 - mse: 55.8099\n",
      "Epoch 27/50\n",
      "17/17 [==============================] - 0s 1ms/step - loss: 58.0161 - mse: 58.0161\n",
      "Epoch 28/50\n",
      "17/17 [==============================] - 0s 1ms/step - loss: 53.6987 - mse: 53.6987\n",
      "Epoch 29/50\n",
      "17/17 [==============================] - 0s 1ms/step - loss: 50.4108 - mse: 50.4108\n",
      "Epoch 30/50\n",
      "17/17 [==============================] - 0s 967us/step - loss: 52.9378 - mse: 52.9378\n",
      "Epoch 31/50\n",
      "17/17 [==============================] - 0s 1ms/step - loss: 54.5168 - mse: 54.5168\n",
      "Epoch 32/50\n",
      "17/17 [==============================] - 0s 1ms/step - loss: 40.1384 - mse: 40.1384\n",
      "Epoch 33/50\n",
      "17/17 [==============================] - 0s 1ms/step - loss: 51.0204 - mse: 51.0204\n",
      "Epoch 34/50\n",
      "17/17 [==============================] - 0s 1ms/step - loss: 45.8923 - mse: 45.8923\n",
      "Epoch 35/50\n",
      "17/17 [==============================] - 0s 1ms/step - loss: 51.7566 - mse: 51.7566\n",
      "Epoch 36/50\n",
      "17/17 [==============================] - 0s 1ms/step - loss: 41.4382 - mse: 41.4382\n",
      "Epoch 37/50\n",
      "17/17 [==============================] - 0s 2ms/step - loss: 43.0081 - mse: 43.0081\n",
      "Epoch 38/50\n",
      "17/17 [==============================] - 0s 1ms/step - loss: 45.7657 - mse: 45.7657\n",
      "Epoch 39/50\n",
      "17/17 [==============================] - 0s 1ms/step - loss: 48.3366 - mse: 48.3366\n",
      "Epoch 40/50\n",
      "17/17 [==============================] - 0s 1ms/step - loss: 41.8446 - mse: 41.8446\n",
      "Epoch 41/50\n",
      "17/17 [==============================] - 0s 1ms/step - loss: 37.1090 - mse: 37.1090\n",
      "Epoch 42/50\n",
      "17/17 [==============================] - 0s 1ms/step - loss: 43.5715 - mse: 43.5715\n",
      "Epoch 43/50\n",
      "17/17 [==============================] - 0s 1ms/step - loss: 46.2872 - mse: 46.2872\n",
      "Epoch 44/50\n",
      "17/17 [==============================] - 0s 1ms/step - loss: 38.4032 - mse: 38.4032\n",
      "Epoch 45/50\n",
      "17/17 [==============================] - 0s 1ms/step - loss: 47.7312 - mse: 47.7312\n",
      "Epoch 46/50\n",
      "17/17 [==============================] - 0s 1ms/step - loss: 40.8102 - mse: 40.8102\n",
      "Epoch 47/50\n",
      "17/17 [==============================] - 0s 1ms/step - loss: 38.9682 - mse: 38.9682\n",
      "Epoch 48/50\n",
      "17/17 [==============================] - 0s 1ms/step - loss: 40.7084 - mse: 40.7084\n",
      "Epoch 49/50\n",
      "17/17 [==============================] - 0s 1ms/step - loss: 44.4875 - mse: 44.4875\n",
      "Epoch 50/50\n",
      "17/17 [==============================] - 0s 1ms/step - loss: 37.5541 - mse: 37.5541\n",
      "Best params: {'batch_size': 20, 'epochs': 50}\n"
     ]
    }
   ],
   "source": [
    "grid = GridSearchCV(estimator=model, param_grid=params_grid, cv=5, n_jobs=-1)\n",
    "\n",
    "# Run the GridSearchCV process\n",
    "grid_result = grid.fit(X_train, y_train, verbose = 1)\n",
    "\n",
    "# Print the results of the best model\n",
    "print('Best params: ' + str(grid_result.best_params_))"
   ]
  },
  {
   "cell_type": "code",
   "execution_count": 16,
   "metadata": {
    "colab": {
     "base_uri": "https://localhost:8080/",
     "height": 394
    },
    "colab_type": "code",
    "id": "2-JZpVQ78wcs",
    "outputId": "723ff521-d5d9-438a-d7f5-53f6522d9152"
   },
   "outputs": [
    {
     "data": {
      "text/html": [
       "<div>\n",
       "<style scoped>\n",
       "    .dataframe tbody tr th:only-of-type {\n",
       "        vertical-align: middle;\n",
       "    }\n",
       "\n",
       "    .dataframe tbody tr th {\n",
       "        vertical-align: top;\n",
       "    }\n",
       "\n",
       "    .dataframe thead th {\n",
       "        text-align: right;\n",
       "    }\n",
       "</style>\n",
       "<table border=\"1\" class=\"dataframe\">\n",
       "  <thead>\n",
       "    <tr style=\"text-align: right;\">\n",
       "      <th></th>\n",
       "      <th>mean_fit_time</th>\n",
       "      <th>std_fit_time</th>\n",
       "      <th>mean_score_time</th>\n",
       "      <th>std_score_time</th>\n",
       "      <th>param_batch_size</th>\n",
       "      <th>param_epochs</th>\n",
       "      <th>params</th>\n",
       "      <th>split0_test_score</th>\n",
       "      <th>split1_test_score</th>\n",
       "      <th>split2_test_score</th>\n",
       "      <th>split3_test_score</th>\n",
       "      <th>split4_test_score</th>\n",
       "      <th>mean_test_score</th>\n",
       "      <th>std_test_score</th>\n",
       "      <th>rank_test_score</th>\n",
       "    </tr>\n",
       "  </thead>\n",
       "  <tbody>\n",
       "    <tr>\n",
       "      <th>5</th>\n",
       "      <td>1.911546</td>\n",
       "      <td>0.070507</td>\n",
       "      <td>0.212224</td>\n",
       "      <td>0.009014</td>\n",
       "      <td>20</td>\n",
       "      <td>50</td>\n",
       "      <td>{'batch_size': 20, 'epochs': 50}</td>\n",
       "      <td>-28.091606</td>\n",
       "      <td>-50.531643</td>\n",
       "      <td>-25.464216</td>\n",
       "      <td>-41.345612</td>\n",
       "      <td>-49.955063</td>\n",
       "      <td>-39.077628</td>\n",
       "      <td>10.589376</td>\n",
       "      <td>1</td>\n",
       "    </tr>\n",
       "    <tr>\n",
       "      <th>2</th>\n",
       "      <td>2.740602</td>\n",
       "      <td>0.107461</td>\n",
       "      <td>0.223810</td>\n",
       "      <td>0.015220</td>\n",
       "      <td>10</td>\n",
       "      <td>50</td>\n",
       "      <td>{'batch_size': 10, 'epochs': 50}</td>\n",
       "      <td>-62.621315</td>\n",
       "      <td>-60.184845</td>\n",
       "      <td>-27.575737</td>\n",
       "      <td>-26.108664</td>\n",
       "      <td>-40.610634</td>\n",
       "      <td>-43.420239</td>\n",
       "      <td>15.545843</td>\n",
       "      <td>2</td>\n",
       "    </tr>\n",
       "    <tr>\n",
       "      <th>4</th>\n",
       "      <td>1.226355</td>\n",
       "      <td>0.045636</td>\n",
       "      <td>0.203558</td>\n",
       "      <td>0.002856</td>\n",
       "      <td>20</td>\n",
       "      <td>20</td>\n",
       "      <td>{'batch_size': 20, 'epochs': 20}</td>\n",
       "      <td>-33.866211</td>\n",
       "      <td>-79.405014</td>\n",
       "      <td>-32.075813</td>\n",
       "      <td>-49.068954</td>\n",
       "      <td>-51.969337</td>\n",
       "      <td>-49.277066</td>\n",
       "      <td>17.019768</td>\n",
       "      <td>3</td>\n",
       "    </tr>\n",
       "    <tr>\n",
       "      <th>10</th>\n",
       "      <td>1.122039</td>\n",
       "      <td>0.154970</td>\n",
       "      <td>0.205726</td>\n",
       "      <td>0.012639</td>\n",
       "      <td>40</td>\n",
       "      <td>20</td>\n",
       "      <td>{'batch_size': 40, 'epochs': 20}</td>\n",
       "      <td>-42.355965</td>\n",
       "      <td>-74.282387</td>\n",
       "      <td>-40.011410</td>\n",
       "      <td>-57.761349</td>\n",
       "      <td>-58.549248</td>\n",
       "      <td>-54.592072</td>\n",
       "      <td>12.455762</td>\n",
       "      <td>4</td>\n",
       "    </tr>\n",
       "    <tr>\n",
       "      <th>8</th>\n",
       "      <td>1.604552</td>\n",
       "      <td>0.068088</td>\n",
       "      <td>0.217889</td>\n",
       "      <td>0.016444</td>\n",
       "      <td>30</td>\n",
       "      <td>50</td>\n",
       "      <td>{'batch_size': 30, 'epochs': 50}</td>\n",
       "      <td>-29.176754</td>\n",
       "      <td>-68.756592</td>\n",
       "      <td>-33.693027</td>\n",
       "      <td>-45.901535</td>\n",
       "      <td>-123.052231</td>\n",
       "      <td>-60.116028</td>\n",
       "      <td>34.331008</td>\n",
       "      <td>5</td>\n",
       "    </tr>\n",
       "  </tbody>\n",
       "</table>\n",
       "</div>"
      ],
      "text/plain": [
       "    mean_fit_time  std_fit_time  ...  std_test_score  rank_test_score\n",
       "5        1.911546      0.070507  ...       10.589376                1\n",
       "2        2.740602      0.107461  ...       15.545843                2\n",
       "4        1.226355      0.045636  ...       17.019768                3\n",
       "10       1.122039      0.154970  ...       12.455762                4\n",
       "8        1.604552      0.068088  ...       34.331008                5\n",
       "\n",
       "[5 rows x 15 columns]"
      ]
     },
     "execution_count": 16,
     "metadata": {
      "tags": []
     },
     "output_type": "execute_result"
    }
   ],
   "source": [
    "pd.DataFrame(grid_result.cv_results_).sort_values('mean_test_score', ascending=False)[0:5]"
   ]
  },
  {
   "cell_type": "code",
   "execution_count": 17,
   "metadata": {
    "colab": {
     "base_uri": "https://localhost:8080/",
     "height": 1000
    },
    "colab_type": "code",
    "id": "tafsxAKP9KjQ",
    "outputId": "05d1b26b-c264-4c26-b75e-7f6110af65da"
   },
   "outputs": [
    {
     "name": "stdout",
     "output_type": "stream",
     "text": [
      "Epoch 1/50\n",
      "4/4 [==============================] - 0s 2ms/step - loss: 659.9080 - mse: 659.9080\n",
      "Epoch 2/50\n",
      "4/4 [==============================] - 0s 2ms/step - loss: 87.0767 - mse: 87.0767\n",
      "Epoch 3/50\n",
      "4/4 [==============================] - 0s 2ms/step - loss: 79.4768 - mse: 79.4768\n",
      "Epoch 4/50\n",
      "4/4 [==============================] - 0s 2ms/step - loss: 77.8905 - mse: 77.8905\n",
      "Epoch 5/50\n",
      "4/4 [==============================] - 0s 2ms/step - loss: 86.5856 - mse: 86.5856\n",
      "Epoch 6/50\n",
      "4/4 [==============================] - 0s 2ms/step - loss: 76.4458 - mse: 76.4458\n",
      "Epoch 7/50\n",
      "4/4 [==============================] - 0s 3ms/step - loss: 74.9502 - mse: 74.9502\n",
      "Epoch 8/50\n",
      "4/4 [==============================] - 0s 2ms/step - loss: 82.7481 - mse: 82.7481\n",
      "Epoch 9/50\n",
      "4/4 [==============================] - 0s 2ms/step - loss: 76.2541 - mse: 76.2541\n",
      "Epoch 10/50\n",
      "4/4 [==============================] - 0s 2ms/step - loss: 74.4682 - mse: 74.4682\n",
      "Epoch 11/50\n",
      "4/4 [==============================] - 0s 2ms/step - loss: 83.8411 - mse: 83.8411\n",
      "Epoch 12/50\n",
      "4/4 [==============================] - 0s 2ms/step - loss: 81.4576 - mse: 81.4576\n",
      "Epoch 13/50\n",
      "4/4 [==============================] - 0s 2ms/step - loss: 73.0148 - mse: 73.0148\n",
      "Epoch 14/50\n",
      "4/4 [==============================] - 0s 2ms/step - loss: 74.5136 - mse: 74.5136\n",
      "Epoch 15/50\n",
      "4/4 [==============================] - 0s 2ms/step - loss: 85.3777 - mse: 85.3777\n",
      "Epoch 16/50\n",
      "4/4 [==============================] - 0s 1ms/step - loss: 69.0374 - mse: 69.0374\n",
      "Epoch 17/50\n",
      "4/4 [==============================] - 0s 2ms/step - loss: 73.2733 - mse: 73.2733\n",
      "Epoch 18/50\n",
      "4/4 [==============================] - 0s 2ms/step - loss: 79.6336 - mse: 79.6336\n",
      "Epoch 19/50\n",
      "4/4 [==============================] - 0s 2ms/step - loss: 70.5696 - mse: 70.5696\n",
      "Epoch 20/50\n",
      "4/4 [==============================] - 0s 2ms/step - loss: 85.7661 - mse: 85.7661\n",
      "Epoch 21/50\n",
      "4/4 [==============================] - 0s 2ms/step - loss: 88.6964 - mse: 88.6964\n",
      "Epoch 22/50\n",
      "4/4 [==============================] - 0s 2ms/step - loss: 86.4358 - mse: 86.4358\n",
      "Epoch 23/50\n",
      "4/4 [==============================] - 0s 2ms/step - loss: 105.2107 - mse: 105.2107\n",
      "Epoch 24/50\n",
      "4/4 [==============================] - 0s 2ms/step - loss: 67.8634 - mse: 67.8634\n",
      "Epoch 25/50\n",
      "4/4 [==============================] - 0s 2ms/step - loss: 63.7994 - mse: 63.7994\n",
      "Epoch 26/50\n",
      "4/4 [==============================] - 0s 2ms/step - loss: 63.8644 - mse: 63.8644\n",
      "Epoch 27/50\n",
      "4/4 [==============================] - 0s 2ms/step - loss: 62.5250 - mse: 62.5250\n",
      "Epoch 28/50\n",
      "4/4 [==============================] - 0s 2ms/step - loss: 80.7411 - mse: 80.7411\n",
      "Epoch 29/50\n",
      "4/4 [==============================] - 0s 2ms/step - loss: 75.2637 - mse: 75.2637\n",
      "Epoch 30/50\n",
      "4/4 [==============================] - 0s 2ms/step - loss: 68.5729 - mse: 68.5729\n",
      "Epoch 31/50\n",
      "4/4 [==============================] - 0s 2ms/step - loss: 63.7583 - mse: 63.7583\n",
      "Epoch 32/50\n",
      "4/4 [==============================] - 0s 3ms/step - loss: 72.5264 - mse: 72.5264\n",
      "Epoch 33/50\n",
      "4/4 [==============================] - 0s 2ms/step - loss: 108.2761 - mse: 108.2761\n",
      "Epoch 34/50\n",
      "4/4 [==============================] - 0s 2ms/step - loss: 60.3403 - mse: 60.3403\n",
      "Epoch 35/50\n",
      "4/4 [==============================] - 0s 2ms/step - loss: 70.0201 - mse: 70.0201\n",
      "Epoch 36/50\n",
      "4/4 [==============================] - 0s 2ms/step - loss: 73.7960 - mse: 73.7960\n",
      "Epoch 37/50\n",
      "4/4 [==============================] - 0s 3ms/step - loss: 58.5163 - mse: 58.5163\n",
      "Epoch 38/50\n",
      "4/4 [==============================] - 0s 2ms/step - loss: 58.2465 - mse: 58.2465\n",
      "Epoch 39/50\n",
      "4/4 [==============================] - 0s 2ms/step - loss: 70.4284 - mse: 70.4284\n",
      "Epoch 40/50\n",
      "4/4 [==============================] - 0s 1ms/step - loss: 55.3508 - mse: 55.3508\n",
      "Epoch 41/50\n",
      "4/4 [==============================] - 0s 2ms/step - loss: 87.0013 - mse: 87.0013\n",
      "Epoch 42/50\n",
      "4/4 [==============================] - 0s 2ms/step - loss: 58.7130 - mse: 58.7130\n",
      "Epoch 43/50\n",
      "4/4 [==============================] - 0s 2ms/step - loss: 55.3246 - mse: 55.3246\n",
      "Epoch 44/50\n",
      "4/4 [==============================] - 0s 2ms/step - loss: 56.5939 - mse: 56.5939\n",
      "Epoch 45/50\n",
      "4/4 [==============================] - 0s 2ms/step - loss: 60.6913 - mse: 60.6913\n",
      "Epoch 46/50\n",
      "4/4 [==============================] - 0s 2ms/step - loss: 74.6893 - mse: 74.6893\n",
      "Epoch 47/50\n",
      "4/4 [==============================] - 0s 1ms/step - loss: 72.6535 - mse: 72.6535\n",
      "Epoch 48/50\n",
      "4/4 [==============================] - 0s 2ms/step - loss: 62.3785 - mse: 62.3785\n",
      "Epoch 49/50\n",
      "4/4 [==============================] - 0s 2ms/step - loss: 63.2129 - mse: 63.2129\n",
      "Epoch 50/50\n",
      "4/4 [==============================] - 0s 2ms/step - loss: 77.4214 - mse: 77.4214\n",
      "1/1 [==============================] - 0s 1ms/step - loss: 46.8041 - mse: 46.8041\n",
      "Epoch 1/50\n",
      "4/4 [==============================] - 0s 2ms/step - loss: 558.4315 - mse: 558.4315\n",
      "Epoch 2/50\n",
      "4/4 [==============================] - 0s 2ms/step - loss: 127.9387 - mse: 127.9387\n",
      "Epoch 3/50\n",
      "4/4 [==============================] - 0s 1ms/step - loss: 109.0304 - mse: 109.0304\n",
      "Epoch 4/50\n",
      "4/4 [==============================] - 0s 2ms/step - loss: 104.0310 - mse: 104.0310\n",
      "Epoch 5/50\n",
      "4/4 [==============================] - 0s 2ms/step - loss: 136.2954 - mse: 136.2954\n",
      "Epoch 6/50\n",
      "4/4 [==============================] - 0s 2ms/step - loss: 214.8663 - mse: 214.8663\n",
      "Epoch 7/50\n",
      "4/4 [==============================] - 0s 2ms/step - loss: 110.0594 - mse: 110.0594\n",
      "Epoch 8/50\n",
      "4/4 [==============================] - 0s 2ms/step - loss: 74.1335 - mse: 74.1335\n",
      "Epoch 9/50\n",
      "4/4 [==============================] - 0s 2ms/step - loss: 82.2380 - mse: 82.2380\n",
      "Epoch 10/50\n",
      "4/4 [==============================] - 0s 2ms/step - loss: 99.0862 - mse: 99.0862\n",
      "Epoch 11/50\n",
      "4/4 [==============================] - 0s 2ms/step - loss: 153.4337 - mse: 153.4337\n",
      "Epoch 12/50\n",
      "4/4 [==============================] - 0s 1ms/step - loss: 129.6203 - mse: 129.6203\n",
      "Epoch 13/50\n",
      "4/4 [==============================] - 0s 2ms/step - loss: 68.2230 - mse: 68.2230\n",
      "Epoch 14/50\n",
      "4/4 [==============================] - 0s 2ms/step - loss: 67.8097 - mse: 67.8097\n",
      "Epoch 15/50\n",
      "4/4 [==============================] - 0s 2ms/step - loss: 165.4815 - mse: 165.4815\n",
      "Epoch 16/50\n",
      "4/4 [==============================] - 0s 2ms/step - loss: 58.4688 - mse: 58.4688\n",
      "Epoch 17/50\n",
      "4/4 [==============================] - 0s 2ms/step - loss: 74.5520 - mse: 74.5520\n",
      "Epoch 18/50\n",
      "4/4 [==============================] - 0s 1ms/step - loss: 247.2277 - mse: 247.2277\n",
      "Epoch 19/50\n",
      "4/4 [==============================] - 0s 2ms/step - loss: 101.9500 - mse: 101.9500\n",
      "Epoch 20/50\n",
      "4/4 [==============================] - 0s 2ms/step - loss: 137.2753 - mse: 137.2753\n",
      "Epoch 21/50\n",
      "4/4 [==============================] - 0s 2ms/step - loss: 114.0817 - mse: 114.0817\n",
      "Epoch 22/50\n",
      "4/4 [==============================] - 0s 1ms/step - loss: 60.9755 - mse: 60.9755\n",
      "Epoch 23/50\n",
      "4/4 [==============================] - 0s 2ms/step - loss: 96.9464 - mse: 96.9464\n",
      "Epoch 24/50\n",
      "4/4 [==============================] - 0s 2ms/step - loss: 85.9219 - mse: 85.9219\n",
      "Epoch 25/50\n",
      "4/4 [==============================] - 0s 2ms/step - loss: 70.1321 - mse: 70.1321\n",
      "Epoch 26/50\n",
      "4/4 [==============================] - 0s 2ms/step - loss: 57.8515 - mse: 57.8515\n",
      "Epoch 27/50\n",
      "4/4 [==============================] - 0s 2ms/step - loss: 114.3208 - mse: 114.3208\n",
      "Epoch 28/50\n",
      "4/4 [==============================] - 0s 2ms/step - loss: 165.1985 - mse: 165.1985\n",
      "Epoch 29/50\n",
      "4/4 [==============================] - 0s 2ms/step - loss: 57.3186 - mse: 57.3186\n",
      "Epoch 30/50\n",
      "4/4 [==============================] - 0s 2ms/step - loss: 71.2964 - mse: 71.2964\n",
      "Epoch 31/50\n",
      "4/4 [==============================] - 0s 2ms/step - loss: 60.7964 - mse: 60.7964\n",
      "Epoch 32/50\n",
      "4/4 [==============================] - 0s 2ms/step - loss: 90.4023 - mse: 90.4023\n",
      "Epoch 33/50\n",
      "4/4 [==============================] - 0s 2ms/step - loss: 81.0099 - mse: 81.0099\n",
      "Epoch 34/50\n",
      "4/4 [==============================] - 0s 2ms/step - loss: 82.5399 - mse: 82.5399\n",
      "Epoch 35/50\n",
      "4/4 [==============================] - 0s 2ms/step - loss: 50.8882 - mse: 50.8882\n",
      "Epoch 36/50\n",
      "4/4 [==============================] - 0s 2ms/step - loss: 63.1247 - mse: 63.1247\n",
      "Epoch 37/50\n",
      "4/4 [==============================] - 0s 2ms/step - loss: 54.7093 - mse: 54.7093\n",
      "Epoch 38/50\n",
      "4/4 [==============================] - 0s 2ms/step - loss: 55.3803 - mse: 55.3803\n",
      "Epoch 39/50\n",
      "4/4 [==============================] - 0s 2ms/step - loss: 154.8449 - mse: 154.8449\n",
      "Epoch 40/50\n",
      "4/4 [==============================] - 0s 2ms/step - loss: 91.4630 - mse: 91.4630\n",
      "Epoch 41/50\n",
      "4/4 [==============================] - 0s 2ms/step - loss: 51.1899 - mse: 51.1899\n",
      "Epoch 42/50\n",
      "4/4 [==============================] - 0s 2ms/step - loss: 55.8635 - mse: 55.8635\n",
      "Epoch 43/50\n",
      "4/4 [==============================] - 0s 2ms/step - loss: 92.7150 - mse: 92.7150\n",
      "Epoch 44/50\n",
      "4/4 [==============================] - 0s 2ms/step - loss: 62.9218 - mse: 62.9218\n",
      "Epoch 45/50\n",
      "4/4 [==============================] - 0s 2ms/step - loss: 93.4767 - mse: 93.4767\n",
      "Epoch 46/50\n",
      "4/4 [==============================] - 0s 2ms/step - loss: 71.0874 - mse: 71.0874\n",
      "Epoch 47/50\n",
      "4/4 [==============================] - 0s 2ms/step - loss: 83.0045 - mse: 83.0045\n",
      "Epoch 48/50\n",
      "4/4 [==============================] - 0s 2ms/step - loss: 79.3134 - mse: 79.3134\n",
      "Epoch 49/50\n",
      "4/4 [==============================] - 0s 2ms/step - loss: 47.2023 - mse: 47.2023\n",
      "Epoch 50/50\n",
      "4/4 [==============================] - 0s 2ms/step - loss: 61.4117 - mse: 61.4117\n",
      "1/1 [==============================] - 0s 1ms/step - loss: 67.2285 - mse: 67.2285\n",
      "Epoch 1/50\n",
      "4/4 [==============================] - 0s 2ms/step - loss: 3540.8831 - mse: 3540.8831\n",
      "Epoch 2/50\n",
      "4/4 [==============================] - 0s 2ms/step - loss: 498.5618 - mse: 498.5618\n",
      "Epoch 3/50\n",
      "4/4 [==============================] - 0s 2ms/step - loss: 391.2387 - mse: 391.2387\n",
      "Epoch 4/50\n",
      "4/4 [==============================] - 0s 2ms/step - loss: 395.5170 - mse: 395.5170\n",
      "Epoch 5/50\n",
      "4/4 [==============================] - 0s 2ms/step - loss: 359.9090 - mse: 359.9090\n",
      "Epoch 6/50\n",
      "4/4 [==============================] - 0s 2ms/step - loss: 194.8917 - mse: 194.8917\n",
      "Epoch 7/50\n",
      "4/4 [==============================] - 0s 2ms/step - loss: 172.3201 - mse: 172.3201\n",
      "Epoch 8/50\n",
      "4/4 [==============================] - 0s 1ms/step - loss: 441.9765 - mse: 441.9765\n",
      "Epoch 9/50\n",
      "4/4 [==============================] - 0s 2ms/step - loss: 107.9382 - mse: 107.9382\n",
      "Epoch 10/50\n",
      "4/4 [==============================] - 0s 2ms/step - loss: 335.9583 - mse: 335.9583\n",
      "Epoch 11/50\n",
      "4/4 [==============================] - 0s 2ms/step - loss: 90.7649 - mse: 90.7649\n",
      "Epoch 12/50\n",
      "4/4 [==============================] - 0s 1ms/step - loss: 205.9642 - mse: 205.9642\n",
      "Epoch 13/50\n",
      "4/4 [==============================] - 0s 2ms/step - loss: 186.0305 - mse: 186.0305\n",
      "Epoch 14/50\n",
      "4/4 [==============================] - 0s 1ms/step - loss: 113.8002 - mse: 113.8002\n",
      "Epoch 15/50\n",
      "4/4 [==============================] - 0s 2ms/step - loss: 180.6048 - mse: 180.6048\n",
      "Epoch 16/50\n",
      "4/4 [==============================] - 0s 1ms/step - loss: 76.6088 - mse: 76.6088\n",
      "Epoch 17/50\n",
      "4/4 [==============================] - 0s 2ms/step - loss: 102.1963 - mse: 102.1963\n",
      "Epoch 18/50\n",
      "4/4 [==============================] - 0s 2ms/step - loss: 225.4778 - mse: 225.4778\n",
      "Epoch 19/50\n",
      "4/4 [==============================] - 0s 2ms/step - loss: 100.4603 - mse: 100.4603\n",
      "Epoch 20/50\n",
      "4/4 [==============================] - 0s 2ms/step - loss: 106.8227 - mse: 106.8227\n",
      "Epoch 21/50\n",
      "4/4 [==============================] - 0s 2ms/step - loss: 158.8693 - mse: 158.8693\n",
      "Epoch 22/50\n",
      "4/4 [==============================] - 0s 2ms/step - loss: 115.5310 - mse: 115.5310\n",
      "Epoch 23/50\n",
      "4/4 [==============================] - 0s 2ms/step - loss: 119.0181 - mse: 119.0181\n",
      "Epoch 24/50\n",
      "4/4 [==============================] - 0s 2ms/step - loss: 118.6879 - mse: 118.6879\n",
      "Epoch 25/50\n",
      "4/4 [==============================] - 0s 1ms/step - loss: 112.0055 - mse: 112.0055\n",
      "Epoch 26/50\n",
      "4/4 [==============================] - 0s 2ms/step - loss: 110.0772 - mse: 110.0772\n",
      "Epoch 27/50\n",
      "4/4 [==============================] - 0s 2ms/step - loss: 288.5910 - mse: 288.5910\n",
      "Epoch 28/50\n",
      "4/4 [==============================] - 0s 2ms/step - loss: 100.1555 - mse: 100.1555\n",
      "Epoch 29/50\n",
      "4/4 [==============================] - 0s 2ms/step - loss: 69.6741 - mse: 69.6741\n",
      "Epoch 30/50\n",
      "4/4 [==============================] - 0s 3ms/step - loss: 141.1042 - mse: 141.1042\n",
      "Epoch 31/50\n",
      "4/4 [==============================] - 0s 2ms/step - loss: 75.5394 - mse: 75.5394\n",
      "Epoch 32/50\n",
      "4/4 [==============================] - 0s 2ms/step - loss: 116.8010 - mse: 116.8010\n",
      "Epoch 33/50\n",
      "4/4 [==============================] - 0s 2ms/step - loss: 217.1763 - mse: 217.1763\n",
      "Epoch 34/50\n",
      "4/4 [==============================] - 0s 2ms/step - loss: 108.4637 - mse: 108.4637\n",
      "Epoch 35/50\n",
      "4/4 [==============================] - 0s 2ms/step - loss: 67.4360 - mse: 67.4360\n",
      "Epoch 36/50\n",
      "4/4 [==============================] - 0s 2ms/step - loss: 103.3288 - mse: 103.3288\n",
      "Epoch 37/50\n",
      "4/4 [==============================] - 0s 2ms/step - loss: 209.0013 - mse: 209.0013\n",
      "Epoch 38/50\n",
      "4/4 [==============================] - 0s 2ms/step - loss: 110.0307 - mse: 110.0307\n",
      "Epoch 39/50\n",
      "4/4 [==============================] - 0s 2ms/step - loss: 93.0307 - mse: 93.0307\n",
      "Epoch 40/50\n",
      "4/4 [==============================] - 0s 2ms/step - loss: 129.7788 - mse: 129.7788\n",
      "Epoch 41/50\n",
      "4/4 [==============================] - 0s 2ms/step - loss: 87.9580 - mse: 87.9580\n",
      "Epoch 42/50\n",
      "4/4 [==============================] - 0s 2ms/step - loss: 71.1956 - mse: 71.1956\n",
      "Epoch 43/50\n",
      "4/4 [==============================] - 0s 2ms/step - loss: 72.7834 - mse: 72.7834\n",
      "Epoch 44/50\n",
      "4/4 [==============================] - 0s 2ms/step - loss: 74.4569 - mse: 74.4569\n",
      "Epoch 45/50\n",
      "4/4 [==============================] - 0s 2ms/step - loss: 152.3925 - mse: 152.3925\n",
      "Epoch 46/50\n",
      "4/4 [==============================] - 0s 3ms/step - loss: 103.1659 - mse: 103.1659\n",
      "Epoch 47/50\n",
      "4/4 [==============================] - 0s 2ms/step - loss: 168.4143 - mse: 168.4143\n",
      "Epoch 48/50\n",
      "4/4 [==============================] - 0s 2ms/step - loss: 111.4443 - mse: 111.4443\n",
      "Epoch 49/50\n",
      "4/4 [==============================] - 0s 2ms/step - loss: 69.8118 - mse: 69.8118\n",
      "Epoch 50/50\n",
      "4/4 [==============================] - 0s 2ms/step - loss: 74.8043 - mse: 74.8043\n",
      "1/1 [==============================] - 0s 2ms/step - loss: 78.9330 - mse: 78.9330\n",
      "Epoch 1/50\n",
      "4/4 [==============================] - 0s 2ms/step - loss: 287.4593 - mse: 287.4592\n",
      "Epoch 2/50\n",
      "4/4 [==============================] - 0s 2ms/step - loss: 123.9686 - mse: 123.9686\n",
      "Epoch 3/50\n",
      "4/4 [==============================] - 0s 2ms/step - loss: 107.2117 - mse: 107.2117\n",
      "Epoch 4/50\n",
      "4/4 [==============================] - 0s 2ms/step - loss: 108.4323 - mse: 108.4323\n",
      "Epoch 5/50\n",
      "4/4 [==============================] - 0s 2ms/step - loss: 154.1065 - mse: 154.1065\n",
      "Epoch 6/50\n",
      "4/4 [==============================] - 0s 2ms/step - loss: 97.9524 - mse: 97.9524\n",
      "Epoch 7/50\n",
      "4/4 [==============================] - 0s 2ms/step - loss: 100.1643 - mse: 100.1643\n",
      "Epoch 8/50\n",
      "4/4 [==============================] - 0s 2ms/step - loss: 144.4498 - mse: 144.4498\n",
      "Epoch 9/50\n",
      "4/4 [==============================] - 0s 2ms/step - loss: 122.1941 - mse: 122.1941\n",
      "Epoch 10/50\n",
      "4/4 [==============================] - 0s 1ms/step - loss: 94.1506 - mse: 94.1506\n",
      "Epoch 11/50\n",
      "4/4 [==============================] - 0s 2ms/step - loss: 151.6401 - mse: 151.6401\n",
      "Epoch 12/50\n",
      "4/4 [==============================] - 0s 1ms/step - loss: 77.5552 - mse: 77.5552\n",
      "Epoch 13/50\n",
      "4/4 [==============================] - 0s 2ms/step - loss: 79.6755 - mse: 79.6755\n",
      "Epoch 14/50\n",
      "4/4 [==============================] - 0s 2ms/step - loss: 124.0060 - mse: 124.0060\n",
      "Epoch 15/50\n",
      "4/4 [==============================] - 0s 2ms/step - loss: 121.8798 - mse: 121.8798\n",
      "Epoch 16/50\n",
      "4/4 [==============================] - 0s 2ms/step - loss: 67.2982 - mse: 67.2982\n",
      "Epoch 17/50\n",
      "4/4 [==============================] - 0s 2ms/step - loss: 105.4358 - mse: 105.4358\n",
      "Epoch 18/50\n",
      "4/4 [==============================] - 0s 2ms/step - loss: 120.4569 - mse: 120.4569\n",
      "Epoch 19/50\n",
      "4/4 [==============================] - 0s 2ms/step - loss: 88.8794 - mse: 88.8794\n",
      "Epoch 20/50\n",
      "4/4 [==============================] - 0s 2ms/step - loss: 143.6748 - mse: 143.6748\n",
      "Epoch 21/50\n",
      "4/4 [==============================] - 0s 1ms/step - loss: 85.4136 - mse: 85.4136\n",
      "Epoch 22/50\n",
      "4/4 [==============================] - 0s 2ms/step - loss: 77.9591 - mse: 77.9591\n",
      "Epoch 23/50\n",
      "4/4 [==============================] - 0s 2ms/step - loss: 78.6687 - mse: 78.6687\n",
      "Epoch 24/50\n",
      "4/4 [==============================] - 0s 2ms/step - loss: 71.3552 - mse: 71.3552\n",
      "Epoch 25/50\n",
      "4/4 [==============================] - 0s 2ms/step - loss: 138.0214 - mse: 138.0214\n",
      "Epoch 26/50\n",
      "4/4 [==============================] - 0s 2ms/step - loss: 82.2907 - mse: 82.2907\n",
      "Epoch 27/50\n",
      "4/4 [==============================] - 0s 2ms/step - loss: 114.4921 - mse: 114.4921\n",
      "Epoch 28/50\n",
      "4/4 [==============================] - 0s 2ms/step - loss: 115.7748 - mse: 115.7748\n",
      "Epoch 29/50\n",
      "4/4 [==============================] - 0s 2ms/step - loss: 87.3818 - mse: 87.3818\n",
      "Epoch 30/50\n",
      "4/4 [==============================] - 0s 2ms/step - loss: 72.0630 - mse: 72.0630\n",
      "Epoch 31/50\n",
      "4/4 [==============================] - 0s 2ms/step - loss: 77.6954 - mse: 77.6954\n",
      "Epoch 32/50\n",
      "4/4 [==============================] - 0s 2ms/step - loss: 70.7473 - mse: 70.7473\n",
      "Epoch 33/50\n",
      "4/4 [==============================] - 0s 2ms/step - loss: 134.9686 - mse: 134.9686\n",
      "Epoch 34/50\n",
      "4/4 [==============================] - 0s 2ms/step - loss: 97.1580 - mse: 97.1580\n",
      "Epoch 35/50\n",
      "4/4 [==============================] - 0s 2ms/step - loss: 72.9872 - mse: 72.9872\n",
      "Epoch 36/50\n",
      "4/4 [==============================] - 0s 2ms/step - loss: 68.6365 - mse: 68.6365\n",
      "Epoch 37/50\n",
      "4/4 [==============================] - 0s 2ms/step - loss: 89.4523 - mse: 89.4523\n",
      "Epoch 38/50\n",
      "4/4 [==============================] - 0s 2ms/step - loss: 94.9978 - mse: 94.9978\n",
      "Epoch 39/50\n",
      "4/4 [==============================] - 0s 2ms/step - loss: 73.5636 - mse: 73.5636\n",
      "Epoch 40/50\n",
      "4/4 [==============================] - 0s 2ms/step - loss: 80.8259 - mse: 80.8259\n",
      "Epoch 41/50\n",
      "4/4 [==============================] - 0s 2ms/step - loss: 76.5826 - mse: 76.5826\n",
      "Epoch 42/50\n",
      "4/4 [==============================] - 0s 2ms/step - loss: 97.9769 - mse: 97.9769\n",
      "Epoch 43/50\n",
      "4/4 [==============================] - 0s 1ms/step - loss: 73.1611 - mse: 73.1611\n",
      "Epoch 44/50\n",
      "4/4 [==============================] - 0s 2ms/step - loss: 66.2184 - mse: 66.2184\n",
      "Epoch 45/50\n",
      "4/4 [==============================] - 0s 2ms/step - loss: 142.4525 - mse: 142.4525\n",
      "Epoch 46/50\n",
      "4/4 [==============================] - 0s 1ms/step - loss: 78.2989 - mse: 78.2989\n",
      "Epoch 47/50\n",
      "4/4 [==============================] - 0s 2ms/step - loss: 76.9926 - mse: 76.9926\n",
      "Epoch 48/50\n",
      "4/4 [==============================] - 0s 1ms/step - loss: 77.3317 - mse: 77.3317\n",
      "Epoch 49/50\n",
      "4/4 [==============================] - 0s 2ms/step - loss: 66.6370 - mse: 66.6370\n",
      "Epoch 50/50\n",
      "4/4 [==============================] - 0s 2ms/step - loss: 73.5078 - mse: 73.5078\n",
      "1/1 [==============================] - 0s 1ms/step - loss: 50.3023 - mse: 50.3023\n",
      "Epoch 1/50\n",
      "4/4 [==============================] - 0s 2ms/step - loss: 1579.7635 - mse: 1579.7635\n",
      "Epoch 2/50\n",
      "4/4 [==============================] - 0s 2ms/step - loss: 675.2659 - mse: 675.2659\n",
      "Epoch 3/50\n",
      "4/4 [==============================] - 0s 2ms/step - loss: 663.6955 - mse: 663.6955\n",
      "Epoch 4/50\n",
      "4/4 [==============================] - 0s 1ms/step - loss: 652.6065 - mse: 652.6065\n",
      "Epoch 5/50\n",
      "4/4 [==============================] - 0s 2ms/step - loss: 648.8599 - mse: 648.8599\n",
      "Epoch 6/50\n",
      "4/4 [==============================] - 0s 2ms/step - loss: 646.2433 - mse: 646.2433\n",
      "Epoch 7/50\n",
      "4/4 [==============================] - 0s 2ms/step - loss: 644.1719 - mse: 644.1719\n",
      "Epoch 8/50\n",
      "4/4 [==============================] - 0s 2ms/step - loss: 641.9714 - mse: 641.9714\n",
      "Epoch 9/50\n",
      "4/4 [==============================] - 0s 2ms/step - loss: 640.0400 - mse: 640.0400\n",
      "Epoch 10/50\n",
      "4/4 [==============================] - 0s 2ms/step - loss: 638.2495 - mse: 638.2495\n",
      "Epoch 11/50\n",
      "4/4 [==============================] - 0s 2ms/step - loss: 636.5133 - mse: 636.5133\n",
      "Epoch 12/50\n",
      "4/4 [==============================] - 0s 3ms/step - loss: 634.7398 - mse: 634.7398\n",
      "Epoch 13/50\n",
      "4/4 [==============================] - 0s 2ms/step - loss: 632.8004 - mse: 632.8004\n",
      "Epoch 14/50\n",
      "4/4 [==============================] - 0s 2ms/step - loss: 630.9866 - mse: 630.9866\n",
      "Epoch 15/50\n",
      "4/4 [==============================] - 0s 2ms/step - loss: 629.2065 - mse: 629.2065\n",
      "Epoch 16/50\n",
      "4/4 [==============================] - 0s 2ms/step - loss: 627.4481 - mse: 627.4481\n",
      "Epoch 17/50\n",
      "4/4 [==============================] - 0s 2ms/step - loss: 625.6160 - mse: 625.6160\n",
      "Epoch 18/50\n",
      "4/4 [==============================] - 0s 2ms/step - loss: 623.7569 - mse: 623.7569\n",
      "Epoch 19/50\n",
      "4/4 [==============================] - 0s 2ms/step - loss: 621.8071 - mse: 621.8071\n",
      "Epoch 20/50\n",
      "4/4 [==============================] - 0s 2ms/step - loss: 619.9943 - mse: 619.9943\n",
      "Epoch 21/50\n",
      "4/4 [==============================] - 0s 2ms/step - loss: 618.2385 - mse: 618.2385\n",
      "Epoch 22/50\n",
      "4/4 [==============================] - 0s 2ms/step - loss: 616.4482 - mse: 616.4482\n",
      "Epoch 23/50\n",
      "4/4 [==============================] - 0s 2ms/step - loss: 614.7051 - mse: 614.7051\n",
      "Epoch 24/50\n",
      "4/4 [==============================] - 0s 2ms/step - loss: 612.8776 - mse: 612.8776\n",
      "Epoch 25/50\n",
      "4/4 [==============================] - 0s 2ms/step - loss: 611.1072 - mse: 611.1072\n",
      "Epoch 26/50\n",
      "4/4 [==============================] - 0s 2ms/step - loss: 609.2974 - mse: 609.2974\n",
      "Epoch 27/50\n",
      "4/4 [==============================] - 0s 2ms/step - loss: 607.5038 - mse: 607.5038\n",
      "Epoch 28/50\n",
      "4/4 [==============================] - 0s 2ms/step - loss: 605.7574 - mse: 605.7574\n",
      "Epoch 29/50\n",
      "4/4 [==============================] - 0s 2ms/step - loss: 603.8941 - mse: 603.8941\n",
      "Epoch 30/50\n",
      "4/4 [==============================] - 0s 2ms/step - loss: 601.9829 - mse: 601.9829\n",
      "Epoch 31/50\n",
      "4/4 [==============================] - 0s 2ms/step - loss: 600.2402 - mse: 600.2402\n",
      "Epoch 32/50\n",
      "4/4 [==============================] - 0s 2ms/step - loss: 598.4703 - mse: 598.4703\n",
      "Epoch 33/50\n",
      "4/4 [==============================] - 0s 1ms/step - loss: 596.5729 - mse: 596.5729\n",
      "Epoch 34/50\n",
      "4/4 [==============================] - 0s 2ms/step - loss: 594.7707 - mse: 594.7707\n",
      "Epoch 35/50\n",
      "4/4 [==============================] - 0s 2ms/step - loss: 592.9573 - mse: 592.9573\n",
      "Epoch 36/50\n",
      "4/4 [==============================] - 0s 2ms/step - loss: 591.2707 - mse: 591.2707\n",
      "Epoch 37/50\n",
      "4/4 [==============================] - 0s 2ms/step - loss: 589.5458 - mse: 589.5458\n",
      "Epoch 38/50\n",
      "4/4 [==============================] - 0s 2ms/step - loss: 587.8716 - mse: 587.8716\n",
      "Epoch 39/50\n",
      "4/4 [==============================] - 0s 2ms/step - loss: 586.0920 - mse: 586.0920\n",
      "Epoch 40/50\n",
      "4/4 [==============================] - 0s 2ms/step - loss: 584.3802 - mse: 584.3802\n",
      "Epoch 41/50\n",
      "4/4 [==============================] - 0s 2ms/step - loss: 582.6573 - mse: 582.6573\n",
      "Epoch 42/50\n",
      "4/4 [==============================] - 0s 2ms/step - loss: 580.8195 - mse: 580.8195\n",
      "Epoch 43/50\n",
      "4/4 [==============================] - 0s 2ms/step - loss: 579.0273 - mse: 579.0273\n",
      "Epoch 44/50\n",
      "4/4 [==============================] - 0s 2ms/step - loss: 577.2731 - mse: 577.2731\n",
      "Epoch 45/50\n",
      "4/4 [==============================] - 0s 2ms/step - loss: 575.5888 - mse: 575.5888\n",
      "Epoch 46/50\n",
      "4/4 [==============================] - 0s 2ms/step - loss: 573.7900 - mse: 573.7900\n",
      "Epoch 47/50\n",
      "4/4 [==============================] - 0s 2ms/step - loss: 571.9849 - mse: 571.9849\n",
      "Epoch 48/50\n",
      "4/4 [==============================] - 0s 1ms/step - loss: 570.3086 - mse: 570.3086\n",
      "Epoch 49/50\n",
      "4/4 [==============================] - 0s 1ms/step - loss: 568.5466 - mse: 568.5466\n",
      "Epoch 50/50\n",
      "4/4 [==============================] - 0s 2ms/step - loss: 566.8239 - mse: 566.8238\n",
      "WARNING:tensorflow:5 out of the last 5 calls to <function Model.make_test_function.<locals>.test_function at 0x7efe66e741e0> triggered tf.function retracing. Tracing is expensive and the excessive number of tracings could be due to (1) creating @tf.function repeatedly in a loop, (2) passing tensors with different shapes, (3) passing Python objects instead of tensors. For (1), please define your @tf.function outside of the loop. For (2), @tf.function has experimental_relax_shapes=True option that relaxes argument shapes that can avoid unnecessary retracing. For (3), please refer to https://www.tensorflow.org/tutorials/customization/performance#python_or_tensor_args and https://www.tensorflow.org/api_docs/python/tf/function for  more details.\n",
      "1/1 [==============================] - 0s 4ms/step - loss: 632.6329 - mse: 632.6329\n",
      "Results: \n",
      "  * Mean: 175.18014755249024 \n",
      "  * Std: 229.02184776416357\n"
     ]
    }
   ],
   "source": [
    "\n",
    "# Import the cross validation evaluator\n",
    "from sklearn.model_selection import cross_val_score\n",
    "\n",
    "# Measure the model's performance\n",
    "results = cross_val_score(grid.best_estimator_, X_test, y_test, cv=5)\n",
    "print('Results: \\n  * Mean:', -results.mean(), '\\n  * Std:', results.std())"
   ]
  },
  {
   "cell_type": "code",
   "execution_count": 22,
   "metadata": {
    "colab": {},
    "colab_type": "code",
    "id": "75k0FDLO9mIt"
   },
   "outputs": [],
   "source": [
    "import kerastuner as kt"
   ]
  },
  {
   "cell_type": "code",
   "execution_count": 19,
   "metadata": {
    "colab": {
     "base_uri": "https://localhost:8080/",
     "height": 68
    },
    "colab_type": "code",
    "id": "CdH6p65ZcYJa",
    "outputId": "afdbb504-72af-4a8b-90d7-b6cc3759f96f"
   },
   "outputs": [
    {
     "name": "stdout",
     "output_type": "stream",
     "text": [
      "\u001b[?25l\r",
      "\u001b[K     |██████                          | 10kB 19.5MB/s eta 0:00:01\r",
      "\u001b[K     |████████████                    | 20kB 2.2MB/s eta 0:00:01\r",
      "\u001b[K     |██████████████████              | 30kB 2.4MB/s eta 0:00:01\r",
      "\u001b[K     |████████████████████████        | 40kB 2.7MB/s eta 0:00:01\r",
      "\u001b[K     |██████████████████████████████  | 51kB 2.5MB/s eta 0:00:01\r",
      "\u001b[K     |████████████████████████████████| 61kB 2.1MB/s \n",
      "\u001b[?25h  Building wheel for keras-tuner (setup.py) ... \u001b[?25l\u001b[?25hdone\n",
      "  Building wheel for terminaltables (setup.py) ... \u001b[?25l\u001b[?25hdone\n"
     ]
    }
   ],
   "source": [
    "!pip install -q -U keras-tuner"
   ]
  },
  {
   "cell_type": "code",
   "execution_count": 25,
   "metadata": {
    "colab": {},
    "colab_type": "code",
    "id": "tE9w04cOeW2G"
   },
   "outputs": [],
   "source": [
    "def model_building(hp):\n",
    "    inputs = Input(shape=(n_features,))\n",
    "\n",
    "    hid = Dense(10,activation='relu')(inputs)\n",
    "\n",
    "    hid_2 = Dense(8,activation='relu')(hid)\n",
    "\n",
    "    final = Dense(1)(hid_2)\n",
    "\n",
    "    hp_lr = hp.Choice('learning_rate',values=[0.001,0.01,0.1,1.0])\n",
    "\n",
    "    optimizer = RMSprop(learning_rate=hp_lr)\n",
    "\n",
    "    model = Model(inputs=inputs,outputs=final)\n",
    "\n",
    "    model.compile(loss='mse',metrics=['mse'],optimizer=optimizer)\n",
    "\n",
    "    return model"
   ]
  },
  {
   "cell_type": "code",
   "execution_count": 26,
   "metadata": {
    "colab": {},
    "colab_type": "code",
    "id": "W6dkq7mg8lbo"
   },
   "outputs": [],
   "source": [
    "tunner = kt.RandomSearch(model_building,objective='mse',seed=42,max_trials=5,directory='random_search')"
   ]
  },
  {
   "cell_type": "code",
   "execution_count": 29,
   "metadata": {
    "colab": {
     "base_uri": "https://localhost:8080/",
     "height": 1000
    },
    "colab_type": "code",
    "id": "tMZPmORc83zm",
    "outputId": "567eeb3b-deb0-4ffe-d829-6c719ce32bf8"
   },
   "outputs": [
    {
     "name": "stdout",
     "output_type": "stream",
     "text": [
      "Epoch 1/10\n",
      "1/9 [==>...........................] - ETA: 0s - loss: 830.4236 - mse: 830.4236WARNING:tensorflow:6 out of the last 6 calls to <function Model.make_test_function.<locals>.test_function at 0x7efe69753268> triggered tf.function retracing. Tracing is expensive and the excessive number of tracings could be due to (1) creating @tf.function repeatedly in a loop, (2) passing tensors with different shapes, (3) passing Python objects instead of tensors. For (1), please define your @tf.function outside of the loop. For (2), @tf.function has experimental_relax_shapes=True option that relaxes argument shapes that can avoid unnecessary retracing. For (3), please refer to https://www.tensorflow.org/tutorials/customization/performance#python_or_tensor_args and https://www.tensorflow.org/api_docs/python/tf/function for  more details.\n",
      "9/9 [==============================] - 0s 23ms/step - loss: 373.2285 - mse: 373.2285 - val_loss: 152.3379 - val_mse: 152.3379\n",
      "Epoch 2/10\n",
      "9/9 [==============================] - 0s 5ms/step - loss: 137.3719 - mse: 137.3719 - val_loss: 98.6123 - val_mse: 98.6123\n",
      "Epoch 3/10\n",
      "9/9 [==============================] - 0s 5ms/step - loss: 96.7425 - mse: 96.7425 - val_loss: 85.8221 - val_mse: 85.8221\n",
      "Epoch 4/10\n",
      "9/9 [==============================] - 0s 5ms/step - loss: 86.6630 - mse: 86.6630 - val_loss: 86.4883 - val_mse: 86.4883\n",
      "Epoch 5/10\n",
      "9/9 [==============================] - 0s 5ms/step - loss: 84.7902 - mse: 84.7902 - val_loss: 80.1648 - val_mse: 80.1648\n",
      "Epoch 6/10\n",
      "9/9 [==============================] - 0s 5ms/step - loss: 82.4398 - mse: 82.4398 - val_loss: 85.2267 - val_mse: 85.2267\n",
      "Epoch 7/10\n",
      "9/9 [==============================] - 0s 5ms/step - loss: 82.1798 - mse: 82.1798 - val_loss: 73.1422 - val_mse: 73.1422\n",
      "Epoch 8/10\n",
      "9/9 [==============================] - 0s 5ms/step - loss: 80.6692 - mse: 80.6692 - val_loss: 71.6894 - val_mse: 71.6894\n",
      "Epoch 9/10\n",
      "9/9 [==============================] - 0s 5ms/step - loss: 78.9934 - mse: 78.9934 - val_loss: 70.9038 - val_mse: 70.9038\n",
      "Epoch 10/10\n",
      "9/9 [==============================] - 0s 6ms/step - loss: 78.3025 - mse: 78.3025 - val_loss: 71.0043 - val_mse: 71.0043\n"
     ]
    },
    {
     "data": {
      "text/html": [
       "<span style=\"color:#4527A0\"><h1 style=\"font-size:18px\">Trial complete</h1></span>"
      ],
      "text/plain": [
       "<IPython.core.display.HTML object>"
      ]
     },
     "metadata": {
      "tags": []
     },
     "output_type": "display_data"
    },
    {
     "data": {
      "text/html": [
       "<span style=\"color:#4527A0\"><h1 style=\"font-size:18px\">Trial summary</h1></span>"
      ],
      "text/plain": [
       "<IPython.core.display.HTML object>"
      ]
     },
     "metadata": {
      "tags": []
     },
     "output_type": "display_data"
    },
    {
     "data": {
      "text/html": [
       "<span style=\"color:cyan\"> |-Trial ID: 2cc7a66da31633114366b57e276c1127</span>"
      ],
      "text/plain": [
       "<IPython.core.display.HTML object>"
      ]
     },
     "metadata": {
      "tags": []
     },
     "output_type": "display_data"
    },
    {
     "data": {
      "text/html": [
       "<span style=\"color:cyan\"> |-Score: 78.3024673461914</span>"
      ],
      "text/plain": [
       "<IPython.core.display.HTML object>"
      ]
     },
     "metadata": {
      "tags": []
     },
     "output_type": "display_data"
    },
    {
     "data": {
      "text/html": [
       "<span style=\"color:cyan\"> |-Best step: 0</span>"
      ],
      "text/plain": [
       "<IPython.core.display.HTML object>"
      ]
     },
     "metadata": {
      "tags": []
     },
     "output_type": "display_data"
    },
    {
     "data": {
      "text/html": [
       "<span style=\"color:#7E57C2\"><h2 style=\"font-size:16px\">Hyperparameters:</h2></span>"
      ],
      "text/plain": [
       "<IPython.core.display.HTML object>"
      ]
     },
     "metadata": {
      "tags": []
     },
     "output_type": "display_data"
    },
    {
     "data": {
      "text/html": [
       "<span style=\"color:cyan\"> |-learning_rate: 0.001</span>"
      ],
      "text/plain": [
       "<IPython.core.display.HTML object>"
      ]
     },
     "metadata": {
      "tags": []
     },
     "output_type": "display_data"
    },
    {
     "name": "stdout",
     "output_type": "stream",
     "text": [
      "Epoch 1/10\n",
      "9/9 [==============================] - 0s 18ms/step - loss: 1397324416.0000 - mse: 1397324416.0000 - val_loss: 6651.0420 - val_mse: 6651.0420\n",
      "Epoch 2/10\n",
      "9/9 [==============================] - 0s 5ms/step - loss: 509.1711 - mse: 509.1711 - val_loss: 80.1367 - val_mse: 80.1367\n",
      "Epoch 3/10\n",
      "9/9 [==============================] - 0s 5ms/step - loss: 282.7709 - mse: 282.7709 - val_loss: 5511.0752 - val_mse: 5511.0752\n",
      "Epoch 4/10\n",
      "9/9 [==============================] - 0s 4ms/step - loss: 1879.9188 - mse: 1879.9188 - val_loss: 633.9631 - val_mse: 633.9631\n",
      "Epoch 5/10\n",
      "9/9 [==============================] - 0s 5ms/step - loss: 144.0812 - mse: 144.0812 - val_loss: 74.9064 - val_mse: 74.9064\n",
      "Epoch 6/10\n",
      "9/9 [==============================] - 0s 5ms/step - loss: 91.9125 - mse: 91.9125 - val_loss: 947.2366 - val_mse: 947.2366\n",
      "Epoch 7/10\n",
      "9/9 [==============================] - 0s 4ms/step - loss: 331.2776 - mse: 331.2776 - val_loss: 327.9899 - val_mse: 327.9899\n",
      "Epoch 8/10\n",
      "9/9 [==============================] - 0s 5ms/step - loss: 479.1101 - mse: 479.1101 - val_loss: 89.2004 - val_mse: 89.2004\n",
      "Epoch 9/10\n",
      "9/9 [==============================] - 0s 5ms/step - loss: 88.3052 - mse: 88.3052 - val_loss: 129.1754 - val_mse: 129.1754\n",
      "Epoch 10/10\n",
      "9/9 [==============================] - 0s 4ms/step - loss: 109.0687 - mse: 109.0687 - val_loss: 106.3499 - val_mse: 106.3499\n"
     ]
    },
    {
     "data": {
      "text/html": [
       "<span style=\"color:#4527A0\"><h1 style=\"font-size:18px\">Trial complete</h1></span>"
      ],
      "text/plain": [
       "<IPython.core.display.HTML object>"
      ]
     },
     "metadata": {
      "tags": []
     },
     "output_type": "display_data"
    },
    {
     "data": {
      "text/html": [
       "<span style=\"color:#4527A0\"><h1 style=\"font-size:18px\">Trial summary</h1></span>"
      ],
      "text/plain": [
       "<IPython.core.display.HTML object>"
      ]
     },
     "metadata": {
      "tags": []
     },
     "output_type": "display_data"
    },
    {
     "data": {
      "text/html": [
       "<span style=\"color:cyan\"> |-Trial ID: a8d74f305e8f9980dc8c11d74fb0857d</span>"
      ],
      "text/plain": [
       "<IPython.core.display.HTML object>"
      ]
     },
     "metadata": {
      "tags": []
     },
     "output_type": "display_data"
    },
    {
     "data": {
      "text/html": [
       "<span style=\"color:cyan\"> |-Score: 88.30516815185547</span>"
      ],
      "text/plain": [
       "<IPython.core.display.HTML object>"
      ]
     },
     "metadata": {
      "tags": []
     },
     "output_type": "display_data"
    },
    {
     "data": {
      "text/html": [
       "<span style=\"color:cyan\"> |-Best step: 0</span>"
      ],
      "text/plain": [
       "<IPython.core.display.HTML object>"
      ]
     },
     "metadata": {
      "tags": []
     },
     "output_type": "display_data"
    },
    {
     "data": {
      "text/html": [
       "<span style=\"color:#7E57C2\"><h2 style=\"font-size:16px\">Hyperparameters:</h2></span>"
      ],
      "text/plain": [
       "<IPython.core.display.HTML object>"
      ]
     },
     "metadata": {
      "tags": []
     },
     "output_type": "display_data"
    },
    {
     "data": {
      "text/html": [
       "<span style=\"color:cyan\"> |-learning_rate: 1.0</span>"
      ],
      "text/plain": [
       "<IPython.core.display.HTML object>"
      ]
     },
     "metadata": {
      "tags": []
     },
     "output_type": "display_data"
    },
    {
     "name": "stdout",
     "output_type": "stream",
     "text": [
      "Epoch 1/10\n",
      "9/9 [==============================] - 0s 18ms/step - loss: 1106.5270 - mse: 1106.5270 - val_loss: 322.5012 - val_mse: 322.5012\n",
      "Epoch 2/10\n",
      "9/9 [==============================] - 0s 5ms/step - loss: 188.1669 - mse: 188.1669 - val_loss: 96.6598 - val_mse: 96.6598\n",
      "Epoch 3/10\n",
      "9/9 [==============================] - 0s 6ms/step - loss: 89.4503 - mse: 89.4503 - val_loss: 85.8705 - val_mse: 85.8705\n",
      "Epoch 4/10\n",
      "9/9 [==============================] - 0s 5ms/step - loss: 84.4604 - mse: 84.4604 - val_loss: 90.4863 - val_mse: 90.4863\n",
      "Epoch 5/10\n",
      "9/9 [==============================] - 0s 4ms/step - loss: 84.6403 - mse: 84.6403 - val_loss: 83.6118 - val_mse: 83.6118\n",
      "Epoch 6/10\n",
      "9/9 [==============================] - 0s 5ms/step - loss: 84.2324 - mse: 84.2324 - val_loss: 121.2604 - val_mse: 121.2604\n",
      "Epoch 7/10\n",
      "9/9 [==============================] - 0s 4ms/step - loss: 90.9207 - mse: 90.9207 - val_loss: 94.4259 - val_mse: 94.4259\n",
      "Epoch 8/10\n",
      "9/9 [==============================] - 0s 4ms/step - loss: 87.5686 - mse: 87.5686 - val_loss: 85.2858 - val_mse: 85.2858\n",
      "Epoch 9/10\n",
      "9/9 [==============================] - 0s 4ms/step - loss: 85.7006 - mse: 85.7006 - val_loss: 84.2851 - val_mse: 84.2851\n",
      "Epoch 10/10\n",
      "9/9 [==============================] - 0s 4ms/step - loss: 84.4360 - mse: 84.4360 - val_loss: 85.2917 - val_mse: 85.2917\n"
     ]
    },
    {
     "data": {
      "text/html": [
       "<span style=\"color:#4527A0\"><h1 style=\"font-size:18px\">Trial complete</h1></span>"
      ],
      "text/plain": [
       "<IPython.core.display.HTML object>"
      ]
     },
     "metadata": {
      "tags": []
     },
     "output_type": "display_data"
    },
    {
     "data": {
      "text/html": [
       "<span style=\"color:#4527A0\"><h1 style=\"font-size:18px\">Trial summary</h1></span>"
      ],
      "text/plain": [
       "<IPython.core.display.HTML object>"
      ]
     },
     "metadata": {
      "tags": []
     },
     "output_type": "display_data"
    },
    {
     "data": {
      "text/html": [
       "<span style=\"color:cyan\"> |-Trial ID: c266982a9a3ae573d74f5eadc2d055ab</span>"
      ],
      "text/plain": [
       "<IPython.core.display.HTML object>"
      ]
     },
     "metadata": {
      "tags": []
     },
     "output_type": "display_data"
    },
    {
     "data": {
      "text/html": [
       "<span style=\"color:cyan\"> |-Score: 84.23240661621094</span>"
      ],
      "text/plain": [
       "<IPython.core.display.HTML object>"
      ]
     },
     "metadata": {
      "tags": []
     },
     "output_type": "display_data"
    },
    {
     "data": {
      "text/html": [
       "<span style=\"color:cyan\"> |-Best step: 0</span>"
      ],
      "text/plain": [
       "<IPython.core.display.HTML object>"
      ]
     },
     "metadata": {
      "tags": []
     },
     "output_type": "display_data"
    },
    {
     "data": {
      "text/html": [
       "<span style=\"color:#7E57C2\"><h2 style=\"font-size:16px\">Hyperparameters:</h2></span>"
      ],
      "text/plain": [
       "<IPython.core.display.HTML object>"
      ]
     },
     "metadata": {
      "tags": []
     },
     "output_type": "display_data"
    },
    {
     "data": {
      "text/html": [
       "<span style=\"color:cyan\"> |-learning_rate: 0.1</span>"
      ],
      "text/plain": [
       "<IPython.core.display.HTML object>"
      ]
     },
     "metadata": {
      "tags": []
     },
     "output_type": "display_data"
    },
    {
     "name": "stdout",
     "output_type": "stream",
     "text": [
      "Epoch 1/10\n",
      "9/9 [==============================] - 0s 20ms/step - loss: 2643.8452 - mse: 2643.8452 - val_loss: 251.7590 - val_mse: 251.7590\n",
      "Epoch 2/10\n",
      "9/9 [==============================] - 0s 5ms/step - loss: 129.2674 - mse: 129.2674 - val_loss: 195.2645 - val_mse: 195.2645\n",
      "Epoch 3/10\n",
      "9/9 [==============================] - 0s 5ms/step - loss: 102.0941 - mse: 102.0941 - val_loss: 225.6780 - val_mse: 225.6780\n",
      "Epoch 4/10\n",
      "9/9 [==============================] - 0s 4ms/step - loss: 134.8096 - mse: 134.8096 - val_loss: 115.7631 - val_mse: 115.7631\n",
      "Epoch 5/10\n",
      "9/9 [==============================] - 0s 5ms/step - loss: 77.5195 - mse: 77.5195 - val_loss: 119.3701 - val_mse: 119.3701\n",
      "Epoch 6/10\n",
      "9/9 [==============================] - 0s 4ms/step - loss: 100.5684 - mse: 100.5684 - val_loss: 297.9522 - val_mse: 297.9522\n",
      "Epoch 7/10\n",
      "9/9 [==============================] - 0s 4ms/step - loss: 90.6295 - mse: 90.6295 - val_loss: 139.0792 - val_mse: 139.0792\n",
      "Epoch 8/10\n",
      "9/9 [==============================] - 0s 4ms/step - loss: 103.7083 - mse: 103.7083 - val_loss: 79.7245 - val_mse: 79.7245\n",
      "Epoch 9/10\n",
      "9/9 [==============================] - 0s 6ms/step - loss: 64.5444 - mse: 64.5444 - val_loss: 101.9368 - val_mse: 101.9368\n",
      "Epoch 10/10\n",
      "9/9 [==============================] - 0s 4ms/step - loss: 113.8013 - mse: 113.8013 - val_loss: 189.0478 - val_mse: 189.0478\n"
     ]
    },
    {
     "data": {
      "text/html": [
       "<span style=\"color:#4527A0\"><h1 style=\"font-size:18px\">Trial complete</h1></span>"
      ],
      "text/plain": [
       "<IPython.core.display.HTML object>"
      ]
     },
     "metadata": {
      "tags": []
     },
     "output_type": "display_data"
    },
    {
     "data": {
      "text/html": [
       "<span style=\"color:#4527A0\"><h1 style=\"font-size:18px\">Trial summary</h1></span>"
      ],
      "text/plain": [
       "<IPython.core.display.HTML object>"
      ]
     },
     "metadata": {
      "tags": []
     },
     "output_type": "display_data"
    },
    {
     "data": {
      "text/html": [
       "<span style=\"color:cyan\"> |-Trial ID: 4b279d30631b21877f1e242125f7baa2</span>"
      ],
      "text/plain": [
       "<IPython.core.display.HTML object>"
      ]
     },
     "metadata": {
      "tags": []
     },
     "output_type": "display_data"
    },
    {
     "data": {
      "text/html": [
       "<span style=\"color:cyan\"> |-Score: 64.54441833496094</span>"
      ],
      "text/plain": [
       "<IPython.core.display.HTML object>"
      ]
     },
     "metadata": {
      "tags": []
     },
     "output_type": "display_data"
    },
    {
     "data": {
      "text/html": [
       "<span style=\"color:cyan\"> |-Best step: 0</span>"
      ],
      "text/plain": [
       "<IPython.core.display.HTML object>"
      ]
     },
     "metadata": {
      "tags": []
     },
     "output_type": "display_data"
    },
    {
     "data": {
      "text/html": [
       "<span style=\"color:#7E57C2\"><h2 style=\"font-size:16px\">Hyperparameters:</h2></span>"
      ],
      "text/plain": [
       "<IPython.core.display.HTML object>"
      ]
     },
     "metadata": {
      "tags": []
     },
     "output_type": "display_data"
    },
    {
     "data": {
      "text/html": [
       "<span style=\"color:cyan\"> |-learning_rate: 0.01</span>"
      ],
      "text/plain": [
       "<IPython.core.display.HTML object>"
      ]
     },
     "metadata": {
      "tags": []
     },
     "output_type": "display_data"
    },
    {
     "name": "stdout",
     "output_type": "stream",
     "text": [
      "INFO:tensorflow:Oracle triggered exit\n"
     ]
    }
   ],
   "source": [
    "tunner.search(X_train,y_train,epochs=10,validation_split=0.2,verbose=1)"
   ]
  },
  {
   "cell_type": "code",
   "execution_count": 30,
   "metadata": {
    "colab": {},
    "colab_type": "code",
    "id": "4QK-jB7d9Vbz"
   },
   "outputs": [],
   "source": [
    "best = tunner.get_best_models()[0]"
   ]
  },
  {
   "cell_type": "code",
   "execution_count": 31,
   "metadata": {
    "colab": {
     "base_uri": "https://localhost:8080/",
     "height": 51
    },
    "colab_type": "code",
    "id": "une53fwq99Ia",
    "outputId": "c2b6cad4-d7c2-45d8-aec9-878e2d93bea4"
   },
   "outputs": [
    {
     "name": "stdout",
     "output_type": "stream",
     "text": [
      "3/3 [==============================] - 0s 3ms/step - loss: 103.8843 - mse: 103.8843\n"
     ]
    },
    {
     "data": {
      "text/plain": [
       "[103.88433074951172, 103.88433074951172]"
      ]
     },
     "execution_count": 31,
     "metadata": {
      "tags": []
     },
     "output_type": "execute_result"
    }
   ],
   "source": [
    "best.evaluate(X_test,y_test)"
   ]
  },
  {
   "cell_type": "code",
   "execution_count": 32,
   "metadata": {
    "colab": {
     "base_uri": "https://localhost:8080/",
     "height": 289
    },
    "colab_type": "code",
    "id": "tpukbGoX-Amy",
    "outputId": "fa919c50-7cbf-4e10-a2f2-ad371e686508"
   },
   "outputs": [
    {
     "name": "stdout",
     "output_type": "stream",
     "text": [
      "Model: \"functional_1\"\n",
      "_________________________________________________________________\n",
      "Layer (type)                 Output Shape              Param #   \n",
      "=================================================================\n",
      "input_1 (InputLayer)         [(None, 13)]              0         \n",
      "_________________________________________________________________\n",
      "dense (Dense)                (None, 10)                140       \n",
      "_________________________________________________________________\n",
      "dense_1 (Dense)              (None, 8)                 88        \n",
      "_________________________________________________________________\n",
      "dense_2 (Dense)              (None, 1)                 9         \n",
      "=================================================================\n",
      "Total params: 237\n",
      "Trainable params: 237\n",
      "Non-trainable params: 0\n",
      "_________________________________________________________________\n"
     ]
    }
   ],
   "source": [
    "best.summary()"
   ]
  },
  {
   "cell_type": "code",
   "execution_count": null,
   "metadata": {
    "colab": {},
    "colab_type": "code",
    "id": "U7Sz11Ax-ETy"
   },
   "outputs": [],
   "source": []
  }
 ],
 "metadata": {
  "colab": {
   "name": "Untitled13.ipynb",
   "provenance": []
  },
  "kernelspec": {
   "display_name": "Python 3",
   "language": "python",
   "name": "python3"
  },
  "language_info": {
   "codemirror_mode": {
    "name": "ipython",
    "version": 3
   },
   "file_extension": ".py",
   "mimetype": "text/x-python",
   "name": "python",
   "nbconvert_exporter": "python",
   "pygments_lexer": "ipython3",
   "version": "3.6.9"
  }
 },
 "nbformat": 4,
 "nbformat_minor": 1
}
